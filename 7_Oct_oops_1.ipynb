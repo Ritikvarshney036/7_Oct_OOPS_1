{
 "cells": [
  {
   "cell_type": "markdown",
   "id": "67230330-bfe3-481b-acbb-7fd5a53c3ca2",
   "metadata": {},
   "source": [
    "Problem 1: Bank account create a class representing a bank account with attributes like account number,account holder name, and balance. Implement methods to deposit and withraw money from the account."
   ]
  },
  {
   "cell_type": "code",
   "execution_count": 17,
   "id": "21bde2a7-eeb8-4d52-9769-ba69055abc5e",
   "metadata": {},
   "outputs": [],
   "source": [
    "class bank_account:\n",
    "    def __init__(self,account_holder,account_number,balance):\n",
    "        self.account_holder = account_holder\n",
    "        self.account_number = account_number\n",
    "        self.balance = balance\n",
    "\n",
    "    def deposite(self,deposite_amount):\n",
    "        print(\"Current amount:\",self.balance)\n",
    "        print(\"Your deposited amount:\",deposite_amount)\n",
    "        self.balance= self.balance + deposite_amount \n",
    "        print(\"Your updated amount is:\",self.balance)\n",
    "\n",
    "    def withraw(self,withraw_amount):\n",
    "        print(\"Current amount:\",self.balance)\n",
    "        print(\"Your withrawl amount:\",withraw_amount)\n",
    "        self.balance= self.balance - withraw_amount\n",
    "        print(\"Your updated amount is:\",self.balance)\n",
    "        \n",
    "        "
   ]
  },
  {
   "cell_type": "code",
   "execution_count": 18,
   "id": "69204485-8f95-460a-926f-857715fbc1b4",
   "metadata": {},
   "outputs": [],
   "source": [
    "ritik=bank_account(\"Ritik\",1234,1000)"
   ]
  },
  {
   "cell_type": "code",
   "execution_count": 19,
   "id": "771f8a09-46da-4bba-9ff7-4012055ed566",
   "metadata": {},
   "outputs": [
    {
     "name": "stdout",
     "output_type": "stream",
     "text": [
      "Current amount: 1000\n",
      "Your deposited amount: 500\n",
      "Your updated amount is: 1500\n"
     ]
    }
   ],
   "source": [
    "ritik.deposite(500)"
   ]
  },
  {
   "cell_type": "code",
   "execution_count": 20,
   "id": "2abee6b5-8244-4494-9cf7-ff9826878f4b",
   "metadata": {},
   "outputs": [
    {
     "name": "stdout",
     "output_type": "stream",
     "text": [
      "Current amount: 1500\n",
      "Your withrawl amount: 100\n",
      "Your updated amount is: 1400\n"
     ]
    }
   ],
   "source": [
    "ritik.withraw(100)"
   ]
  },
  {
   "cell_type": "code",
   "execution_count": 21,
   "id": "0dc34918-7e38-4f4a-a763-a67e86dfb9cc",
   "metadata": {},
   "outputs": [
    {
     "data": {
      "text/plain": [
       "'Ritik'"
      ]
     },
     "execution_count": 21,
     "metadata": {},
     "output_type": "execute_result"
    }
   ],
   "source": [
    "ritik.account_holder"
   ]
  },
  {
   "cell_type": "code",
   "execution_count": 22,
   "id": "4c0ff2ae-922e-4b31-96c0-9fdb49fa1ac4",
   "metadata": {},
   "outputs": [
    {
     "data": {
      "text/plain": [
       "1234"
      ]
     },
     "execution_count": 22,
     "metadata": {},
     "output_type": "execute_result"
    }
   ],
   "source": [
    "ritik.account_number"
   ]
  },
  {
   "cell_type": "code",
   "execution_count": 23,
   "id": "0b451a46-951b-4175-a86b-98eaacfdc131",
   "metadata": {},
   "outputs": [
    {
     "data": {
      "text/plain": [
       "1400"
      ]
     },
     "execution_count": 23,
     "metadata": {},
     "output_type": "execute_result"
    }
   ],
   "source": [
    "ritik.balance"
   ]
  },
  {
   "cell_type": "code",
   "execution_count": null,
   "id": "f92b419d-a6ab-475f-9593-b9269446ea4b",
   "metadata": {},
   "outputs": [],
   "source": []
  },
  {
   "cell_type": "markdown",
   "id": "9800fd0d-bc1d-45d9-b5bb-45a85d00023b",
   "metadata": {},
   "source": [
    "Problem 2: Employees management create a class representing an employee with attribute like employeeID, name,and ,salary. Implement methods to calculate the yearly bonus and display employee details."
   ]
  },
  {
   "cell_type": "code",
   "execution_count": 19,
   "id": "a121bcfc-98d7-465d-8534-2cf8c5bba856",
   "metadata": {},
   "outputs": [],
   "source": [
    "class employee:\n",
    "    def __init__(self,id,name,salary):\n",
    "        self.id=id\n",
    "        self.name=name\n",
    "        self.salary=salary\n",
    "\n",
    "    def details(self):\n",
    "        return f'''Employee name: {self.name}\n",
    "                 Employee ID: {self.id}\n",
    "                 Salary: {self.salary}'''\n",
    "\n",
    "    def bonus(self):\n",
    "        print(\"Yearly Bonus is 1/4 of your current salary\")\n",
    "        bonus_amt=(self.salary)/4\n",
    "        return f\"Bonus amount is: {bonus_amt}\""
   ]
  },
  {
   "cell_type": "code",
   "execution_count": 20,
   "id": "248dfe2b-dd86-4c4e-a864-38b4a225fffd",
   "metadata": {},
   "outputs": [],
   "source": [
    "rv=employee(1234,\"Ritik Varshney\",20000)"
   ]
  },
  {
   "cell_type": "code",
   "execution_count": 21,
   "id": "73532559-0631-4511-ab50-dcd346f8309c",
   "metadata": {},
   "outputs": [
    {
     "data": {
      "text/plain": [
       "'Employee name: Ritik Varshney\\n                 Employee ID: 1234\\n                 Salary: 20000'"
      ]
     },
     "execution_count": 21,
     "metadata": {},
     "output_type": "execute_result"
    }
   ],
   "source": [
    "rv.details()"
   ]
  },
  {
   "cell_type": "code",
   "execution_count": 22,
   "id": "8c4993d1-772f-4953-827f-2df6dd9c56c5",
   "metadata": {},
   "outputs": [
    {
     "data": {
      "text/plain": [
       "20000"
      ]
     },
     "execution_count": 22,
     "metadata": {},
     "output_type": "execute_result"
    }
   ],
   "source": [
    "rv.salary"
   ]
  },
  {
   "cell_type": "code",
   "execution_count": 23,
   "id": "9d43bb0d-4e63-4359-93e2-d7cc62c26a4e",
   "metadata": {},
   "outputs": [
    {
     "name": "stdout",
     "output_type": "stream",
     "text": [
      "Yearly Bonus is 1/4 of your current salary\n"
     ]
    },
    {
     "data": {
      "text/plain": [
       "'Bonus amount is: 5000.0'"
      ]
     },
     "execution_count": 23,
     "metadata": {},
     "output_type": "execute_result"
    }
   ],
   "source": [
    "rv.bonus()"
   ]
  },
  {
   "cell_type": "code",
   "execution_count": null,
   "id": "4357b041-b8aa-4a73-b884-c04f23bb601b",
   "metadata": {},
   "outputs": [],
   "source": []
  },
  {
   "cell_type": "markdown",
   "id": "3bd1e6ca-c65a-4276-a72c-a4d754e6d659",
   "metadata": {},
   "source": [
    "Problem 3: Vehicles rental create a class representing  vehicles rental system. Implement method to rent a vehicles , return a vehicle and display available vehicle"
   ]
  },
  {
   "cell_type": "code",
   "execution_count": 16,
   "id": "74964895-0452-44b9-9cd2-6ccad1fdaa31",
   "metadata": {},
   "outputs": [
    {
     "name": "stdout",
     "output_type": "stream",
     "text": [
      "Car rented successfully.\n",
      "Available vehicles:\n",
      "- Bike\n",
      "- Scooter\n",
      "Car returned successfully.\n",
      "Available vehicles:\n",
      "- Car\n",
      "- Bike\n",
      "- Scooter\n"
     ]
    }
   ],
   "source": [
    "class Vehicle:\n",
    "    def __init__(self, name, is_available=True):\n",
    "        self.name = name\n",
    "        self.is_available = is_available\n",
    "\n",
    "    def __str__(self):\n",
    "        return self.name\n",
    "\n",
    "class VehicleRentalSystem:\n",
    "    def __init__(self):\n",
    "        self.vehicles = []\n",
    "\n",
    "    def add_vehicle(self, vehicle):\n",
    "        self.vehicles.append(vehicle)\n",
    "\n",
    "    def rent_vehicle(self, vehicle_name):\n",
    "        for vehicle in self.vehicles:\n",
    "            if vehicle.name == vehicle_name and vehicle.is_available:\n",
    "                vehicle.is_available = False\n",
    "                print(f\"{vehicle_name} rented successfully.\")\n",
    "                return\n",
    "        print(f\"{vehicle_name} is not available for rent.\")\n",
    "\n",
    "    def return_vehicle(self, vehicle_name):\n",
    "        for vehicle in self.vehicles:\n",
    "            if vehicle.name == vehicle_name and not vehicle.is_available:\n",
    "                vehicle.is_available = True\n",
    "                print(f\"{vehicle_name} returned successfully.\")\n",
    "                return\n",
    "        print(f\"{vehicle_name} was not rented or has already been returned.\")\n",
    "\n",
    "    def display_available_vehicles(self):\n",
    "        available_vehicles = [vehicle for vehicle in self.vehicles if vehicle.is_available]\n",
    "        if available_vehicles:\n",
    "            print(\"Available vehicles:\")\n",
    "            for vehicle in available_vehicles:\n",
    "                print(f\"- {vehicle}\")\n",
    "        else:\n",
    "            print(\"No vehicles available for rent.\")\n",
    "\n",
    "# Example usage\n",
    "vehicle_rental_system = VehicleRentalSystem()\n",
    "vehicle_rental_system.add_vehicle(Vehicle(\"Car\"))\n",
    "vehicle_rental_system.add_vehicle(Vehicle(\"Bike\"))\n",
    "vehicle_rental_system.add_vehicle(Vehicle(\"Scooter\"))\n",
    "vehicle_rental_system.rent_vehicle(\"Car\")\n",
    "vehicle_rental_system.display_available_vehicles()\n",
    "vehicle_rental_system.return_vehicle(\"Car\")\n",
    "vehicle_rental_system.display_available_vehicles()\n"
   ]
  },
  {
   "cell_type": "code",
   "execution_count": null,
   "id": "6592755d-143a-46ac-86d0-226986873f3c",
   "metadata": {},
   "outputs": [],
   "source": []
  },
  {
   "cell_type": "markdown",
   "id": "dfa4bcc7-5a7d-46bd-9eac-391d848aef5c",
   "metadata": {},
   "source": [
    "Problem 4: Library catalog create classes representing a library and a book. Implement methods to add books to the library, borrow books, and display available books."
   ]
  },
  {
   "cell_type": "code",
   "execution_count": 5,
   "id": "8683856c-c9d3-48cc-bd75-599a1d754399",
   "metadata": {},
   "outputs": [],
   "source": [
    "class library:\n",
    "\n",
    "    def add_books(self,add_books_name):\n",
    "        print(f\"You have added {add_books_name} book in the library\")\n",
    "\n",
    "    def borrow_books(self,borrow_name):\n",
    "        print(f\"You borrow {borrow_name} book in the library\")\n",
    "\n",
    "    def display(self,*args):\n",
    "        print(f\"Available books: {args}\")"
   ]
  },
  {
   "cell_type": "code",
   "execution_count": 6,
   "id": "2d513f19-bb60-48c5-bdd1-25997bfb123b",
   "metadata": {},
   "outputs": [],
   "source": [
    "rv=library()"
   ]
  },
  {
   "cell_type": "code",
   "execution_count": 7,
   "id": "d2798b43-24d7-4809-a70b-f0024233e4cc",
   "metadata": {},
   "outputs": [
    {
     "name": "stdout",
     "output_type": "stream",
     "text": [
      "You have added data science book in the library\n"
     ]
    }
   ],
   "source": [
    "rv.add_books(\"data science\")"
   ]
  },
  {
   "cell_type": "code",
   "execution_count": 8,
   "id": "417d9885-6b76-4f6c-b08c-bc645f9b081b",
   "metadata": {},
   "outputs": [
    {
     "name": "stdout",
     "output_type": "stream",
     "text": [
      "Available books: ('ds', 'ai')\n"
     ]
    }
   ],
   "source": [
    "rv.display(\"ds\",\"ai\")"
   ]
  },
  {
   "cell_type": "raw",
   "id": "487c3d83-efed-4b63-83f4-1813aa834af0",
   "metadata": {},
   "source": []
  },
  {
   "cell_type": "markdown",
   "id": "180bb352-a6ac-44cc-add9-cd25b675a164",
   "metadata": {},
   "source": [
    "Problem 5: Product Inventory Create classes representing a product and an inventory system . Implement methods to add products to the invntory, update product quantity and display available products."
   ]
  },
  {
   "cell_type": "code",
   "execution_count": 10,
   "id": "2722da00-ae6e-4c8a-a414-970e52604256",
   "metadata": {},
   "outputs": [],
   "source": [
    "class inventory:\n",
    "    def __init__(self,product, product_quantity, *Available_product):\n",
    "        self.product=product\n",
    "        self.product_quantity= product_quantity\n",
    "        self.Available_product= Available_product\n",
    "\n",
    "class product(inventory):\n",
    "    def add_product_inventory(self,addProduct):\n",
    "        print(\"Product has been added to inventory :\",self.product + addProduct)\n",
    "\n",
    "    def updates_product_quantity(self, updateProduct):\n",
    "        print(\"product has been updated :\",self.product_quantity + updateProduct)\n",
    "\n",
    "    def display_available_product(self):\n",
    "        return self.Available_product"
   ]
  },
  {
   "cell_type": "code",
   "execution_count": 12,
   "id": "079d25f7-8d53-4435-97b4-68fc062441f3",
   "metadata": {},
   "outputs": [],
   "source": [
    "obj_product= product(1000,700,\"oil\" , \"sugar\",\"bed\",\"box\",\"pot\")"
   ]
  },
  {
   "cell_type": "code",
   "execution_count": 13,
   "id": "d37619c0-778f-40dc-a75a-001420d78b7d",
   "metadata": {},
   "outputs": [
    {
     "data": {
      "text/plain": [
       "('oil', 'sugar', 'bed', 'box', 'pot')"
      ]
     },
     "execution_count": 13,
     "metadata": {},
     "output_type": "execute_result"
    }
   ],
   "source": [
    "obj_product.display_available_product()"
   ]
  },
  {
   "cell_type": "code",
   "execution_count": 14,
   "id": "6d89f2de-b443-4e2e-aa93-8eb5ace5f01c",
   "metadata": {},
   "outputs": [
    {
     "name": "stdout",
     "output_type": "stream",
     "text": [
      "Product has been added to inventory : 1020\n"
     ]
    }
   ],
   "source": [
    "obj_product.add_product_inventory(20)"
   ]
  },
  {
   "cell_type": "code",
   "execution_count": 15,
   "id": "acf1c169-4538-4f5b-b412-80a557c64199",
   "metadata": {},
   "outputs": [
    {
     "name": "stdout",
     "output_type": "stream",
     "text": [
      "product has been updated : 1700\n"
     ]
    }
   ],
   "source": [
    "obj_product.updates_product_quantity(1000)"
   ]
  },
  {
   "cell_type": "code",
   "execution_count": null,
   "id": "ca25f15c-2c11-4f1e-ab54-2fcf319e5b4b",
   "metadata": {},
   "outputs": [],
   "source": []
  },
  {
   "cell_type": "markdown",
   "id": "edf7164c-d248-42f8-b103-2d3dc8f389b3",
   "metadata": {},
   "source": [
    "Problem 6: Shape calculation create a class representing a shape attributes like length, width and height. Implement methods to calculate the area and perimeter of the shape."
   ]
  },
  {
   "cell_type": "code",
   "execution_count": 12,
   "id": "42232824-bb2d-4489-bee7-c9df155771e6",
   "metadata": {},
   "outputs": [],
   "source": [
    "from functools import reduce\n",
    "\n",
    "class shape_calculation:\n",
    "    def __init__(self,length,width,height):\n",
    "        self.length=length\n",
    "        self.width=width\n",
    "        self.height=height\n",
    "\n",
    "    def calc_perimeter(self,*args):\n",
    "        d=reduce(lambda x,y:x+y,args)\n",
    "        return d \n",
    "\n",
    "    def calc_area(self):\n",
    "        return 1/2 * self.length * self.width * self.height"
   ]
  },
  {
   "cell_type": "code",
   "execution_count": 13,
   "id": "03c185ca-ac3a-4f68-ac72-4abfb79ef63f",
   "metadata": {},
   "outputs": [],
   "source": [
    "triangle=shape_calculation(12,2,24)"
   ]
  },
  {
   "cell_type": "code",
   "execution_count": 14,
   "id": "e8007927-a121-48af-8fc9-84fd92d2c3e2",
   "metadata": {},
   "outputs": [
    {
     "data": {
      "text/plain": [
       "12"
      ]
     },
     "execution_count": 14,
     "metadata": {},
     "output_type": "execute_result"
    }
   ],
   "source": [
    "triangle.length"
   ]
  },
  {
   "cell_type": "code",
   "execution_count": 15,
   "id": "cfc3e436-debc-4a3d-8e5e-4d9420157ce0",
   "metadata": {},
   "outputs": [
    {
     "data": {
      "text/plain": [
       "24"
      ]
     },
     "execution_count": 15,
     "metadata": {},
     "output_type": "execute_result"
    }
   ],
   "source": [
    "triangle.height"
   ]
  },
  {
   "cell_type": "code",
   "execution_count": 16,
   "id": "29832eea-2ad8-42a0-9ca4-9c61dd3c215e",
   "metadata": {},
   "outputs": [
    {
     "data": {
      "text/plain": [
       "2"
      ]
     },
     "execution_count": 16,
     "metadata": {},
     "output_type": "execute_result"
    }
   ],
   "source": [
    "triangle.width"
   ]
  },
  {
   "cell_type": "code",
   "execution_count": 17,
   "id": "f559cc6e-157e-4a74-8a25-48d544435ffd",
   "metadata": {},
   "outputs": [
    {
     "data": {
      "text/plain": [
       "288.0"
      ]
     },
     "execution_count": 17,
     "metadata": {},
     "output_type": "execute_result"
    }
   ],
   "source": [
    "triangle.calc_area()"
   ]
  },
  {
   "cell_type": "code",
   "execution_count": 19,
   "id": "ddb17a4d-d656-46a8-bacf-e4b2f4b28d67",
   "metadata": {},
   "outputs": [
    {
     "data": {
      "text/plain": [
       "57"
      ]
     },
     "execution_count": 19,
     "metadata": {},
     "output_type": "execute_result"
    }
   ],
   "source": [
    "from functools import reduce\n",
    "triangle.calc_perimeter(23,2,26,6)"
   ]
  },
  {
   "cell_type": "code",
   "execution_count": null,
   "id": "1f74a59f-ef18-45c9-8fdf-082144c34105",
   "metadata": {},
   "outputs": [],
   "source": []
  },
  {
   "cell_type": "markdown",
   "id": "d9d57e81-d074-4a85-b97e-5858687401ba",
   "metadata": {},
   "source": [
    "Problem 7: Student Management create a class represening a student with attributes like student ID, name, and grades. Implement methods to calculate he average grades and display student details."
   ]
  },
  {
   "cell_type": "code",
   "execution_count": 25,
   "id": "f88181f8-dbb6-4654-a427-44ea2aa931cf",
   "metadata": {},
   "outputs": [],
   "source": [
    "class student:\n",
    "    def __init__(self,name, id,grade):\n",
    "        self.name=name\n",
    "        self.id=id\n",
    "        self.grade=grade\n",
    "\n",
    "    def details(self):\n",
    "        return self.name, self.id\n",
    "\n",
    "    def grades(self):\n",
    "        return self.grade"
   ]
  },
  {
   "cell_type": "code",
   "execution_count": 26,
   "id": "dbb6969a-b501-4af9-9563-24bd22077c9e",
   "metadata": {},
   "outputs": [],
   "source": [
    "ritik=student('ritik',36,80)"
   ]
  },
  {
   "cell_type": "code",
   "execution_count": 27,
   "id": "12c11190-0538-4abf-9c07-e648ca0e40fb",
   "metadata": {},
   "outputs": [
    {
     "data": {
      "text/plain": [
       "('ritik', 36)"
      ]
     },
     "execution_count": 27,
     "metadata": {},
     "output_type": "execute_result"
    }
   ],
   "source": [
    "ritik.details()"
   ]
  },
  {
   "cell_type": "code",
   "execution_count": 29,
   "id": "66a7b3c1-f6a7-4fa8-b94c-f508b6ac7fbe",
   "metadata": {},
   "outputs": [
    {
     "data": {
      "text/plain": [
       "80"
      ]
     },
     "execution_count": 29,
     "metadata": {},
     "output_type": "execute_result"
    }
   ],
   "source": [
    "ritik.grades()"
   ]
  },
  {
   "cell_type": "code",
   "execution_count": 30,
   "id": "72a5527b-f9c1-43cb-b377-444a4cd53047",
   "metadata": {},
   "outputs": [
    {
     "data": {
      "text/plain": [
       "36"
      ]
     },
     "execution_count": 30,
     "metadata": {},
     "output_type": "execute_result"
    }
   ],
   "source": [
    "ritik.id"
   ]
  },
  {
   "cell_type": "code",
   "execution_count": 31,
   "id": "3797aa43-ee37-4166-9a17-765ce6d72fa1",
   "metadata": {},
   "outputs": [
    {
     "data": {
      "text/plain": [
       "'ritik'"
      ]
     },
     "execution_count": 31,
     "metadata": {},
     "output_type": "execute_result"
    }
   ],
   "source": [
    "ritik.name"
   ]
  },
  {
   "cell_type": "code",
   "execution_count": 32,
   "id": "2d09605d-5034-4cc7-86bd-eab9fad6a90d",
   "metadata": {},
   "outputs": [
    {
     "data": {
      "text/plain": [
       "80"
      ]
     },
     "execution_count": 32,
     "metadata": {},
     "output_type": "execute_result"
    }
   ],
   "source": [
    "ritik.grade"
   ]
  },
  {
   "cell_type": "markdown",
   "id": "e285e334-2c5b-43b7-9b07-26dc3af41b13",
   "metadata": {},
   "source": [
    "Problem 8: Email Management create a class representing an email with attributes like sender, recipient and subject. Implement methods to send an email and display email details."
   ]
  },
  {
   "cell_type": "code",
   "execution_count": 33,
   "id": "22f7e167-525e-42fe-9d5d-6a79df962c68",
   "metadata": {},
   "outputs": [],
   "source": [
    "class email_management:\n",
    "    def __init__(self,sender,recipient,subject):\n",
    "        self.sender=sender\n",
    "        self.recipient=recipient\n",
    "        self.subject=subject\n",
    "\n",
    "    def send_email(self,sent_mail):\n",
    "        if sent_mail == 'yes' or \"YES\" or \"Yes\":\n",
    "            print(\"Your email has been successfully sent\")\n",
    "        else:\n",
    "            print(\"Your have discarded sending email\")\n",
    "\n",
    "    def display_email_details(self):\n",
    "        return self.sender, self.recipient, self.subject"
   ]
  },
  {
   "cell_type": "code",
   "execution_count": 35,
   "id": "1b2b6d1a-efc8-4fb0-b06d-c609a82b9f10",
   "metadata": {},
   "outputs": [],
   "source": [
    "obj=email_management(\"rvrv@gmail.com\",\"rv@gmail.com\",\"subject\")"
   ]
  },
  {
   "cell_type": "code",
   "execution_count": 36,
   "id": "d280d4ad-8d2f-48d0-87bc-94f0b5ce1374",
   "metadata": {},
   "outputs": [
    {
     "data": {
      "text/plain": [
       "('rvrv@gmail.com', 'rv@gmail.com', 'subject')"
      ]
     },
     "execution_count": 36,
     "metadata": {},
     "output_type": "execute_result"
    }
   ],
   "source": [
    "obj.display_email_details()"
   ]
  },
  {
   "cell_type": "code",
   "execution_count": 38,
   "id": "93357b2c-23ae-4f3c-b059-12a91850fbcc",
   "metadata": {},
   "outputs": [
    {
     "name": "stdout",
     "output_type": "stream",
     "text": [
      "Your email has been successfully sent\n"
     ]
    }
   ],
   "source": [
    "obj.send_email(\"yes\")"
   ]
  },
  {
   "cell_type": "code",
   "execution_count": 40,
   "id": "39136d01-085f-4cb3-b616-076c08c0041a",
   "metadata": {},
   "outputs": [
    {
     "data": {
      "text/plain": [
       "'rv@gmail.com'"
      ]
     },
     "execution_count": 40,
     "metadata": {},
     "output_type": "execute_result"
    }
   ],
   "source": [
    "obj.recipient"
   ]
  },
  {
   "cell_type": "code",
   "execution_count": 41,
   "id": "7704e823-0b81-4b28-99f8-3b8fa19ec877",
   "metadata": {},
   "outputs": [
    {
     "data": {
      "text/plain": [
       "'rvrv@gmail.com'"
      ]
     },
     "execution_count": 41,
     "metadata": {},
     "output_type": "execute_result"
    }
   ],
   "source": [
    "obj.sender"
   ]
  },
  {
   "cell_type": "code",
   "execution_count": 42,
   "id": "e464adec-e431-41eb-aa70-835133da345b",
   "metadata": {},
   "outputs": [
    {
     "data": {
      "text/plain": [
       "'subject'"
      ]
     },
     "execution_count": 42,
     "metadata": {},
     "output_type": "execute_result"
    }
   ],
   "source": [
    "obj.subject"
   ]
  },
  {
   "cell_type": "code",
   "execution_count": null,
   "id": "ba666091-a1bb-47b8-b065-f1ff442496a7",
   "metadata": {},
   "outputs": [],
   "source": []
  },
  {
   "cell_type": "markdown",
   "id": "d81053c6-3c2c-497a-9daa-9730288560d7",
   "metadata": {},
   "source": [
    "Problem 9: Social Media profile create a class representing a social media profile with attributes llke username and posts. Implement methods to add posts, display posts, search for posts by keywords."
   ]
  },
  {
   "cell_type": "code",
   "execution_count": 6,
   "id": "4ab9004c-8a5f-49ad-b5b7-e558a66254db",
   "metadata": {},
   "outputs": [],
   "source": [
    "class social_media:\n",
    "    def __init__(self,username, post):\n",
    "        self.username=username\n",
    "        self.post=post\n",
    "\n",
    "    def addpost(self,add_post):\n",
    "        print(\"You have post has been sent on timeline :\",add_post)\n",
    "\n",
    "    def searchpost(self,searchpost):\n",
    "        print(\"You are searching post on timeline: \",searchpost)"
   ]
  },
  {
   "cell_type": "code",
   "execution_count": 7,
   "id": "d017116d-55a1-49ec-83ef-a8585d7ac515",
   "metadata": {},
   "outputs": [],
   "source": [
    "rv=social_media(\"Ritik\",\"successfully\")"
   ]
  },
  {
   "cell_type": "code",
   "execution_count": 8,
   "id": "4df91175-6edd-429c-851e-e8b1d08ec11f",
   "metadata": {},
   "outputs": [
    {
     "name": "stdout",
     "output_type": "stream",
     "text": [
      "You have post has been sent on timeline : win\n"
     ]
    }
   ],
   "source": [
    "rv.addpost(\"win\")"
   ]
  },
  {
   "cell_type": "code",
   "execution_count": 9,
   "id": "b05d0a3b-cffa-485f-9eaf-4a1883af5047",
   "metadata": {},
   "outputs": [
    {
     "name": "stdout",
     "output_type": "stream",
     "text": [
      "You are searching post on timeline:  you have got grade A\n"
     ]
    }
   ],
   "source": [
    "rv.searchpost(\"you have got grade A\")"
   ]
  },
  {
   "cell_type": "code",
   "execution_count": 10,
   "id": "51bfb929-a85a-4367-8b7f-a7eefd971ad7",
   "metadata": {},
   "outputs": [
    {
     "data": {
      "text/plain": [
       "'successfully'"
      ]
     },
     "execution_count": 10,
     "metadata": {},
     "output_type": "execute_result"
    }
   ],
   "source": [
    "rv.post"
   ]
  },
  {
   "cell_type": "code",
   "execution_count": 11,
   "id": "8bd9e3c6-8fcf-41ec-a0eb-394c452f587d",
   "metadata": {},
   "outputs": [
    {
     "data": {
      "text/plain": [
       "'Ritik'"
      ]
     },
     "execution_count": 11,
     "metadata": {},
     "output_type": "execute_result"
    }
   ],
   "source": [
    "rv.username"
   ]
  },
  {
   "cell_type": "code",
   "execution_count": null,
   "id": "c8e6a350-df0d-4cbb-94f1-e14c4eece947",
   "metadata": {},
   "outputs": [],
   "source": []
  },
  {
   "cell_type": "markdown",
   "id": "31f98e5c-7bc1-47ed-9807-ab07ee965ad0",
   "metadata": {},
   "source": [
    "Problem 10: Todo list create a class representing a Todo list with attributes like tasks and due dates. Implement methods to add tasks, marks tasks as completed, and display pending tasks."
   ]
  },
  {
   "cell_type": "code",
   "execution_count": 1,
   "id": "e7b30a74-30c6-45bc-9063-ef8e15f5c12d",
   "metadata": {},
   "outputs": [
    {
     "name": "stdout",
     "output_type": "stream",
     "text": [
      "Pending tasks: Pay rent\n"
     ]
    }
   ],
   "source": [
    "class TodoList:\n",
    "    def __init__(self):\n",
    "        self.tasks = {}\n",
    "\n",
    "    def add_task(self, task, due_date):\n",
    "        self.tasks[task] = due_date\n",
    "\n",
    "    def mark_task_as_completed(self, task):\n",
    "        if task in self.tasks:\n",
    "            self.tasks[task] = None\n",
    "\n",
    "    def display_pending_tasks(self):\n",
    "        pending_tasks = [task for task, due_date in self.tasks.items() if due_date is not None]\n",
    "        if pending_tasks:\n",
    "            print(f\"Pending tasks: {', '.join(pending_tasks)}\")\n",
    "        else:\n",
    "            print(\"No pending tasks.\")\n",
    "\n",
    "# Example usage\n",
    "todo_list = TodoList()\n",
    "todo_list.add_task(\"Buy groceries\", \"2023-12-20\")\n",
    "todo_list.add_task(\"Pay rent\", \"2023-12-31\")\n",
    "todo_list.mark_task_as_completed(\"Buy groceries\")\n",
    "todo_list.display_pending_tasks()"
   ]
  },
  {
   "cell_type": "code",
   "execution_count": 2,
   "id": "c39e9c05-7155-4f10-8e73-96f0aee0ee83",
   "metadata": {},
   "outputs": [],
   "source": [
    "todo_list.add_task(\"Bread buy\", \"23-12-32\")"
   ]
  },
  {
   "cell_type": "code",
   "execution_count": 3,
   "id": "4d2b245d-0d95-4a2d-b49b-c4c57fa8e1c0",
   "metadata": {},
   "outputs": [
    {
     "name": "stdout",
     "output_type": "stream",
     "text": [
      "Pending tasks: Pay rent, Bread buy\n"
     ]
    }
   ],
   "source": [
    "todo_list.display_pending_tasks()"
   ]
  },
  {
   "cell_type": "code",
   "execution_count": 4,
   "id": "420e6bfe-4b69-41fd-8aeb-d1b95f849d04",
   "metadata": {},
   "outputs": [],
   "source": [
    "todo_list.mark_task_as_completed(\"Pay rent\")"
   ]
  },
  {
   "cell_type": "code",
   "execution_count": 5,
   "id": "ac4b7650-d65c-4905-b01e-85eaf1c8c658",
   "metadata": {},
   "outputs": [
    {
     "name": "stdout",
     "output_type": "stream",
     "text": [
      "Pending tasks: Bread buy\n"
     ]
    }
   ],
   "source": [
    "todo_list.display_pending_tasks()"
   ]
  },
  {
   "cell_type": "code",
   "execution_count": null,
   "id": "b212683c-cfc1-4655-86e5-2b89f914d782",
   "metadata": {},
   "outputs": [],
   "source": []
  },
  {
   "cell_type": "code",
   "execution_count": null,
   "id": "63f6f5f1-c7aa-4c6d-9613-bad7e0ef5384",
   "metadata": {},
   "outputs": [],
   "source": []
  }
 ],
 "metadata": {
  "kernelspec": {
   "display_name": "Python 3 (ipykernel)",
   "language": "python",
   "name": "python3"
  },
  "language_info": {
   "codemirror_mode": {
    "name": "ipython",
    "version": 3
   },
   "file_extension": ".py",
   "mimetype": "text/x-python",
   "name": "python",
   "nbconvert_exporter": "python",
   "pygments_lexer": "ipython3",
   "version": "3.12.0"
  }
 },
 "nbformat": 4,
 "nbformat_minor": 5
}
